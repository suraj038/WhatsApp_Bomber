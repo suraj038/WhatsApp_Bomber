{
 "cells": [
  {
   "cell_type": "code",
   "execution_count": null,
   "metadata": {},
   "outputs": [],
   "source": [
    "from time import sleep\n",
    "from selenium.webdriver.common.by import By\n",
    "from selenium import webdriver\n",
    "from selenium.webdriver.common.keys import Keys\n",
    "from selenium.webdriver.support import expected_conditions as EC\n",
    "from selenium.common.exceptions import TimeoutException\n",
    "from selenium.webdriver.support.ui import WebDriverWait\n",
    "import socket\n",
    "\n",
    "message_text='This Script is Amazing' # message you want to send\n",
    "no_of_message=50 # no. of time you want the message to be send\n",
    "moblie_no_list=[919447512038] # list of phone number can be of any length\n",
    "\n",
    "def element_presence(by,xpath,time):\n",
    "    element_present = EC.presence_of_element_located((By.XPATH, xpath))\n",
    "    WebDriverWait(driver, time).until(element_present)\n",
    "\n",
    "def is_connected():\n",
    "    try:\n",
    "        # connect to the host -- tells us if the host is actually\n",
    "        # reachable\n",
    "        socket.create_connection((\"www.google.com\", 80))\n",
    "        return True\n",
    "    except :\n",
    "        is_connected()\n",
    "driver = webdriver.Chrome(executable_path='C:/Users/suraj/chromedriver')\n",
    "driver.get(\"http://web.whatsapp.com\")\n",
    "sleep(10) #wait time to scan the code in second\n",
    "\n",
    "def send_whatsapp_msg(phone_no,text):\n",
    "    driver.get(\"https://web.whatsapp.com/send?phone={}&source=&data=#\".format(phone_no))\n",
    "    try:\n",
    "        driver.switch_to_alert().accept()\n",
    "    except Exception as e:\n",
    "        pass\n",
    "\n",
    "    try:\n",
    "        element_presence(By.XPATH,'//*[@id=\"main\"]/footer/div[1]/div[2]/div/div[2]',30)\n",
    "        txt_box=driver.find_element(By.XPATH , '//*[@id=\"main\"]/footer/div[1]/div[2]/div/div[2]')\n",
    "        global no_of_message\n",
    "        for x in range(no_of_message):\n",
    "            txt_box.send_keys(text)\n",
    "            txt_box.send_keys(\"\\n\")\n",
    "\n",
    "    except Exception as e:\n",
    "        print(\"invailid phone no :\"+str(phone_no))\n",
    "for moblie_no in moblie_no_list:\n",
    "    try:\n",
    "        send_whatsapp_msg(moblie_no,message_text)\n",
    "\n",
    "    except Exception as e:\n",
    "        sleep(10)\n",
    "        is_connected()"
   ]
  }
 ],
 "metadata": {
  "kernelspec": {
   "display_name": "Python 3",
   "language": "python",
   "name": "python3"
  },
  "language_info": {
   "codemirror_mode": {
    "name": "ipython",
    "version": 3
   },
   "file_extension": ".py",
   "mimetype": "text/x-python",
   "name": "python",
   "nbconvert_exporter": "python",
   "pygments_lexer": "ipython3",
   "version": "3.6.7"
  }
 },
 "nbformat": 4,
 "nbformat_minor": 2
}
